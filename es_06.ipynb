{
 "cells": [
  {
   "cell_type": "code",
   "execution_count": 49,
   "metadata": {},
   "outputs": [
    {
     "data": {
      "text/html": [
       "<div>\n",
       "<style scoped>\n",
       "    .dataframe tbody tr th:only-of-type {\n",
       "        vertical-align: middle;\n",
       "    }\n",
       "\n",
       "    .dataframe tbody tr th {\n",
       "        vertical-align: top;\n",
       "    }\n",
       "\n",
       "    .dataframe thead th {\n",
       "        text-align: right;\n",
       "    }\n",
       "</style>\n",
       "<table border=\"1\" class=\"dataframe\">\n",
       "  <thead>\n",
       "    <tr style=\"text-align: right;\">\n",
       "      <th></th>\n",
       "      <th>carat</th>\n",
       "      <th>cut</th>\n",
       "      <th>color</th>\n",
       "      <th>clarity</th>\n",
       "      <th>depth</th>\n",
       "      <th>table</th>\n",
       "      <th>price</th>\n",
       "      <th>x</th>\n",
       "      <th>y</th>\n",
       "      <th>z</th>\n",
       "    </tr>\n",
       "  </thead>\n",
       "  <tbody>\n",
       "    <tr>\n",
       "      <th>1</th>\n",
       "      <td>0.23</td>\n",
       "      <td>Ideal</td>\n",
       "      <td>E</td>\n",
       "      <td>SI2</td>\n",
       "      <td>61.5</td>\n",
       "      <td>55.0</td>\n",
       "      <td>326</td>\n",
       "      <td>3.95</td>\n",
       "      <td>3.98</td>\n",
       "      <td>2.43</td>\n",
       "    </tr>\n",
       "    <tr>\n",
       "      <th>2</th>\n",
       "      <td>0.21</td>\n",
       "      <td>Premium</td>\n",
       "      <td>E</td>\n",
       "      <td>SI1</td>\n",
       "      <td>59.8</td>\n",
       "      <td>61.0</td>\n",
       "      <td>326</td>\n",
       "      <td>3.89</td>\n",
       "      <td>3.84</td>\n",
       "      <td>2.31</td>\n",
       "    </tr>\n",
       "    <tr>\n",
       "      <th>3</th>\n",
       "      <td>0.23</td>\n",
       "      <td>Good</td>\n",
       "      <td>E</td>\n",
       "      <td>VS1</td>\n",
       "      <td>56.9</td>\n",
       "      <td>65.0</td>\n",
       "      <td>327</td>\n",
       "      <td>4.05</td>\n",
       "      <td>4.07</td>\n",
       "      <td>2.31</td>\n",
       "    </tr>\n",
       "    <tr>\n",
       "      <th>4</th>\n",
       "      <td>0.29</td>\n",
       "      <td>Premium</td>\n",
       "      <td>I</td>\n",
       "      <td>VS2</td>\n",
       "      <td>62.4</td>\n",
       "      <td>58.0</td>\n",
       "      <td>334</td>\n",
       "      <td>4.20</td>\n",
       "      <td>4.23</td>\n",
       "      <td>2.63</td>\n",
       "    </tr>\n",
       "    <tr>\n",
       "      <th>5</th>\n",
       "      <td>0.31</td>\n",
       "      <td>Good</td>\n",
       "      <td>J</td>\n",
       "      <td>SI2</td>\n",
       "      <td>63.3</td>\n",
       "      <td>58.0</td>\n",
       "      <td>335</td>\n",
       "      <td>4.34</td>\n",
       "      <td>4.35</td>\n",
       "      <td>2.75</td>\n",
       "    </tr>\n",
       "  </tbody>\n",
       "</table>\n",
       "</div>"
      ],
      "text/plain": [
       "   carat      cut color clarity  depth  table  price     x     y     z\n",
       "1   0.23    Ideal     E     SI2   61.5   55.0    326  3.95  3.98  2.43\n",
       "2   0.21  Premium     E     SI1   59.8   61.0    326  3.89  3.84  2.31\n",
       "3   0.23     Good     E     VS1   56.9   65.0    327  4.05  4.07  2.31\n",
       "4   0.29  Premium     I     VS2   62.4   58.0    334  4.20  4.23  2.63\n",
       "5   0.31     Good     J     SI2   63.3   58.0    335  4.34  4.35  2.75"
      ]
     },
     "execution_count": 49,
     "metadata": {},
     "output_type": "execute_result"
    }
   ],
   "source": [
    "import pandas as pd\n",
    "import numpy as np\n",
    "import matplotlib.pyplot as plt\n",
    "\n",
    "df = pd.read_csv('datasets/diamonds.csv', index_col=0)\n",
    "df.head()"
   ]
  },
  {
   "cell_type": "code",
   "execution_count": 50,
   "metadata": {},
   "outputs": [
    {
     "data": {
      "text/plain": [
       "53940"
      ]
     },
     "execution_count": 50,
     "metadata": {},
     "output_type": "execute_result"
    }
   ],
   "source": [
    "len(df)"
   ]
  },
  {
   "cell_type": "code",
   "execution_count": 51,
   "metadata": {},
   "outputs": [
    {
     "data": {
      "text/plain": [
       "array(['Ideal', 'Premium', 'Good', 'Very Good', 'Fair'], dtype=object)"
      ]
     },
     "execution_count": 51,
     "metadata": {},
     "output_type": "execute_result"
    }
   ],
   "source": [
    "df['cut'].unique()"
   ]
  },
  {
   "cell_type": "code",
   "execution_count": 52,
   "metadata": {},
   "outputs": [
    {
     "data": {
      "text/plain": [
       "1        2\n",
       "2        3\n",
       "3        1\n",
       "4        3\n",
       "5        1\n",
       "6        4\n",
       "7        4\n",
       "8        4\n",
       "9        0\n",
       "10       4\n",
       "11       1\n",
       "12       2\n",
       "13       3\n",
       "14       2\n",
       "15       3\n",
       "16       3\n",
       "17       2\n",
       "18       1\n",
       "19       1\n",
       "20       4\n",
       "21       1\n",
       "22       4\n",
       "23       4\n",
       "24       4\n",
       "25       4\n",
       "26       4\n",
       "27       3\n",
       "28       4\n",
       "29       4\n",
       "30       4\n",
       "        ..\n",
       "53911    3\n",
       "53912    3\n",
       "53913    3\n",
       "53914    1\n",
       "53915    1\n",
       "53916    2\n",
       "53917    1\n",
       "53918    4\n",
       "53919    3\n",
       "53920    2\n",
       "53921    4\n",
       "53922    4\n",
       "53923    4\n",
       "53924    2\n",
       "53925    2\n",
       "53926    2\n",
       "53927    2\n",
       "53928    1\n",
       "53929    3\n",
       "53930    2\n",
       "53931    3\n",
       "53932    3\n",
       "53933    4\n",
       "53934    4\n",
       "53935    3\n",
       "53936    2\n",
       "53937    1\n",
       "53938    4\n",
       "53939    3\n",
       "53940    2\n",
       "Length: 53940, dtype: int8"
      ]
     },
     "execution_count": 52,
     "metadata": {},
     "output_type": "execute_result"
    }
   ],
   "source": [
    "df['cut'].astype('category').cat.codes "
   ]
  },
  {
   "cell_type": "code",
   "execution_count": 53,
   "metadata": {},
   "outputs": [],
   "source": [
    "# creo il dizionario\n",
    "cut_class_dict = {\"Fair\": 1, \"Good\": 2, \"Very Good\": 3, \"Premium\": 4, \"Ideal\": 5}\n",
    "clarity_dict = {\"I3\": 1, \"I2\": 2, \"I1\": 3, \"SI2\": 4, \"SI1\": 5, \"VS2\": 6, \"VS1\": 7, \"VVS2\": 8, \"VVS1\": 9, \"IF\": 10, \"FL\": 11}\n",
    "color_dict = {\"J\": 1,\"I\": 2,\"H\": 3,\"G\": 4,\"F\": 5,\"E\": 6,\"D\": 7}"
   ]
  },
  {
   "cell_type": "code",
   "execution_count": 54,
   "metadata": {},
   "outputs": [],
   "source": [
    "df['cut'] = df['cut'].map(cut_class_dict)\n",
    "df['clarity'] = df['clarity'].map(clarity_dict)\n",
    "df['color'] = df['color'].map(color_dict)"
   ]
  },
  {
   "cell_type": "code",
   "execution_count": 55,
   "metadata": {},
   "outputs": [
    {
     "data": {
      "text/html": [
       "<div>\n",
       "<style scoped>\n",
       "    .dataframe tbody tr th:only-of-type {\n",
       "        vertical-align: middle;\n",
       "    }\n",
       "\n",
       "    .dataframe tbody tr th {\n",
       "        vertical-align: top;\n",
       "    }\n",
       "\n",
       "    .dataframe thead th {\n",
       "        text-align: right;\n",
       "    }\n",
       "</style>\n",
       "<table border=\"1\" class=\"dataframe\">\n",
       "  <thead>\n",
       "    <tr style=\"text-align: right;\">\n",
       "      <th></th>\n",
       "      <th>carat</th>\n",
       "      <th>cut</th>\n",
       "      <th>color</th>\n",
       "      <th>clarity</th>\n",
       "      <th>depth</th>\n",
       "      <th>table</th>\n",
       "      <th>price</th>\n",
       "      <th>x</th>\n",
       "      <th>y</th>\n",
       "      <th>z</th>\n",
       "    </tr>\n",
       "  </thead>\n",
       "  <tbody>\n",
       "    <tr>\n",
       "      <th>1</th>\n",
       "      <td>0.23</td>\n",
       "      <td>5</td>\n",
       "      <td>6</td>\n",
       "      <td>4</td>\n",
       "      <td>61.5</td>\n",
       "      <td>55.0</td>\n",
       "      <td>326</td>\n",
       "      <td>3.95</td>\n",
       "      <td>3.98</td>\n",
       "      <td>2.43</td>\n",
       "    </tr>\n",
       "    <tr>\n",
       "      <th>2</th>\n",
       "      <td>0.21</td>\n",
       "      <td>4</td>\n",
       "      <td>6</td>\n",
       "      <td>5</td>\n",
       "      <td>59.8</td>\n",
       "      <td>61.0</td>\n",
       "      <td>326</td>\n",
       "      <td>3.89</td>\n",
       "      <td>3.84</td>\n",
       "      <td>2.31</td>\n",
       "    </tr>\n",
       "    <tr>\n",
       "      <th>3</th>\n",
       "      <td>0.23</td>\n",
       "      <td>2</td>\n",
       "      <td>6</td>\n",
       "      <td>7</td>\n",
       "      <td>56.9</td>\n",
       "      <td>65.0</td>\n",
       "      <td>327</td>\n",
       "      <td>4.05</td>\n",
       "      <td>4.07</td>\n",
       "      <td>2.31</td>\n",
       "    </tr>\n",
       "    <tr>\n",
       "      <th>4</th>\n",
       "      <td>0.29</td>\n",
       "      <td>4</td>\n",
       "      <td>2</td>\n",
       "      <td>6</td>\n",
       "      <td>62.4</td>\n",
       "      <td>58.0</td>\n",
       "      <td>334</td>\n",
       "      <td>4.20</td>\n",
       "      <td>4.23</td>\n",
       "      <td>2.63</td>\n",
       "    </tr>\n",
       "    <tr>\n",
       "      <th>5</th>\n",
       "      <td>0.31</td>\n",
       "      <td>2</td>\n",
       "      <td>1</td>\n",
       "      <td>4</td>\n",
       "      <td>63.3</td>\n",
       "      <td>58.0</td>\n",
       "      <td>335</td>\n",
       "      <td>4.34</td>\n",
       "      <td>4.35</td>\n",
       "      <td>2.75</td>\n",
       "    </tr>\n",
       "  </tbody>\n",
       "</table>\n",
       "</div>"
      ],
      "text/plain": [
       "   carat  cut  color  clarity  depth  table  price     x     y     z\n",
       "1   0.23    5      6        4   61.5   55.0    326  3.95  3.98  2.43\n",
       "2   0.21    4      6        5   59.8   61.0    326  3.89  3.84  2.31\n",
       "3   0.23    2      6        7   56.9   65.0    327  4.05  4.07  2.31\n",
       "4   0.29    4      2        6   62.4   58.0    334  4.20  4.23  2.63\n",
       "5   0.31    2      1        4   63.3   58.0    335  4.34  4.35  2.75"
      ]
     },
     "execution_count": 55,
     "metadata": {},
     "output_type": "execute_result"
    }
   ],
   "source": [
    "df.head()"
   ]
  },
  {
   "cell_type": "code",
   "execution_count": 56,
   "metadata": {},
   "outputs": [],
   "source": [
    "import sklearn\n",
    "from sklearn import svm, preprocessing"
   ]
  },
  {
   "cell_type": "code",
   "execution_count": 57,
   "metadata": {},
   "outputs": [],
   "source": [
    "df = sklearn.utils.shuffle(df)\n",
    "\n",
    "X = df.drop('price', axis=1).values\n",
    "X = sklearn.preprocessing.scale(X)\n",
    "\n",
    "y = df['price'].values\n",
    "\n",
    "test_size = 200\n",
    "\n",
    "X_train = X[:-test_size] \n",
    "y_train = y[:-test_size]\n",
    "\n",
    "X_test = X[-test_size:]\n",
    "y_test = y[-test_size:]"
   ]
  },
  {
   "cell_type": "code",
   "execution_count": 58,
   "metadata": {},
   "outputs": [
    {
     "data": {
      "text/plain": [
       "array([[-0.92391017,  0.08588908, -0.8264134 , ..., -0.9905566 ,\n",
       "        -1.0108586 , -1.10350329],\n",
       "       [-1.00829713,  0.98147332,  1.52502147, ..., -1.19559331,\n",
       "        -1.15094846, -1.18852618],\n",
       "       [-0.08004051,  0.08588908,  0.34930404, ...,  0.05245622,\n",
       "         0.03105971,  0.10098767],\n",
       "       ...,\n",
       "       [ 0.00434646, -0.80969515, -1.41427211, ...,  0.24857829,\n",
       "         0.25870573,  0.17184008],\n",
       "       [ 1.43892488,  0.08588908, -1.41427211, ...,  1.47879855,\n",
       "         1.3881802 ,  1.37633104],\n",
       "       [ 0.44737803,  0.08588908, -0.8264134 , ...,  0.75671275,\n",
       "         0.72275338,  0.49776116]])"
      ]
     },
     "execution_count": 58,
     "metadata": {},
     "output_type": "execute_result"
    }
   ],
   "source": [
    "X"
   ]
  },
  {
   "cell_type": "code",
   "execution_count": 59,
   "metadata": {},
   "outputs": [
    {
     "data": {
      "text/plain": [
       "SVR(C=1.0, cache_size=200, coef0=0.0, degree=3, epsilon=0.1,\n",
       "  gamma='auto_deprecated', kernel='linear', max_iter=-1, shrinking=True,\n",
       "  tol=0.001, verbose=False)"
      ]
     },
     "execution_count": 59,
     "metadata": {},
     "output_type": "execute_result"
    }
   ],
   "source": [
    "clf = svm.SVR(kernel='linear')\n",
    "clf.fit(X_train, y_train)"
   ]
  },
  {
   "cell_type": "code",
   "execution_count": 60,
   "metadata": {},
   "outputs": [
    {
     "data": {
      "text/plain": [
       "0.8573614732895276"
      ]
     },
     "execution_count": 60,
     "metadata": {},
     "output_type": "execute_result"
    }
   ],
   "source": [
    "clf.score(X_test, y_test)"
   ]
  },
  {
   "cell_type": "code",
   "execution_count": 61,
   "metadata": {},
   "outputs": [
    {
     "name": "stdout",
     "output_type": "stream",
     "text": [
      "Model: 1526.5543121881942, \t Actual: 1320\n",
      "Model: 240.4417714368874, \t Actual: 452\n",
      "Model: 8565.349921218827, \t Actual: 9831\n",
      "Model: 589.7117772397037, \t Actual: 956\n",
      "Model: 994.7648853810306, \t Actual: 1116\n",
      "Model: 9443.287750888127, \t Actual: 15137\n",
      "Model: 1640.801286875992, \t Actual: 1212\n",
      "Model: 13760.102672782315, \t Actual: 8220\n",
      "Model: 6342.929460742338, \t Actual: 7983\n",
      "Model: 1890.1086942901352, \t Actual: 1786\n",
      "Model: 2885.390265150382, \t Actual: 2767\n",
      "Model: 6039.825205078905, \t Actual: 6163\n",
      "Model: 4101.167439769214, \t Actual: 3751\n",
      "Model: 3541.4522212380643, \t Actual: 3182\n",
      "Model: 1237.1654041564198, \t Actual: 1154\n",
      "Model: 1230.0494706125905, \t Actual: 948\n",
      "Model: 1493.352514277895, \t Actual: 1257\n",
      "Model: 13817.076614833917, \t Actual: 18797\n",
      "Model: 283.4116637896914, \t Actual: 683\n",
      "Model: 1535.462863581542, \t Actual: 1433\n",
      "Model: -4.476860645219858, \t Actual: 675\n",
      "Model: 380.2414208643827, \t Actual: 649\n",
      "Model: 1474.9428683039546, \t Actual: 1395\n",
      "Model: 2530.8037002483657, \t Actual: 2130\n",
      "Model: 3854.704742581261, \t Actual: 3704\n",
      "Model: 208.51711727889688, \t Actual: 581\n",
      "Model: 6342.457363704655, \t Actual: 6237\n",
      "Model: 4775.218895878285, \t Actual: 4476\n",
      "Model: 4880.8852043279485, \t Actual: 5292\n",
      "Model: 740.8048005626015, \t Actual: 651\n",
      "Model: 8429.081467678066, \t Actual: 10219\n",
      "Model: 1806.0512123978724, \t Actual: 1212\n",
      "Model: 3344.47541535899, \t Actual: 2858\n",
      "Model: 1168.6743551731693, \t Actual: 939\n",
      "Model: 2566.2875368243444, \t Actual: 2210\n",
      "Model: 5782.216853063073, \t Actual: 5372\n",
      "Model: 1039.8483608749625, \t Actual: 1050\n",
      "Model: 779.6324252308646, \t Actual: 978\n",
      "Model: -74.4984782515071, \t Actual: 609\n",
      "Model: 8999.309152806825, \t Actual: 9593\n",
      "Model: 2989.907278534136, \t Actual: 3017\n",
      "Model: 510.1562908776964, \t Actual: 945\n",
      "Model: -46.817441799918925, \t Actual: 526\n",
      "Model: 6636.879739235734, \t Actual: 9176\n",
      "Model: 1613.122159895187, \t Actual: 1386\n",
      "Model: 4606.227688806544, \t Actual: 4513\n",
      "Model: 5241.2262719369055, \t Actual: 6153\n",
      "Model: 12117.029438929545, \t Actual: 15847\n",
      "Model: 5819.086549156715, \t Actual: 5220\n",
      "Model: 11984.97388720938, \t Actual: 13229\n",
      "Model: 8792.732756021664, \t Actual: 9847\n",
      "Model: 3112.1618241694546, \t Actual: 2658\n",
      "Model: 6481.885533852586, \t Actual: 6659\n",
      "Model: 1635.8157351849231, \t Actual: 1372\n",
      "Model: 1126.4137838088923, \t Actual: 737\n",
      "Model: 7690.300555105136, \t Actual: 6980\n",
      "Model: 33.333079885464485, \t Actual: 605\n",
      "Model: 12474.339205346254, \t Actual: 16872\n",
      "Model: 7738.922385271178, \t Actual: 7266\n",
      "Model: 558.5882813534131, \t Actual: 711\n",
      "Model: 2045.4191189936284, \t Actual: 1814\n",
      "Model: 12056.300771566657, \t Actual: 17917\n",
      "Model: 5795.286528698034, \t Actual: 7378\n",
      "Model: 4919.693194833536, \t Actual: 5430\n",
      "Model: 524.8019359463219, \t Actual: 928\n",
      "Model: 9669.605457831442, \t Actual: 10477\n",
      "Model: 2749.548941378838, \t Actual: 2200\n",
      "Model: 8921.785529356423, \t Actual: 9439\n",
      "Model: 79.36927904915547, \t Actual: 561\n",
      "Model: 12053.140397334142, \t Actual: 18640\n",
      "Model: 5178.135423859939, \t Actual: 5292\n",
      "Model: 4097.298437990865, \t Actual: 3962\n",
      "Model: 2073.8130541144187, \t Actual: 1812\n",
      "Model: 882.3817358574483, \t Actual: 847\n",
      "Model: 1319.811043217996, \t Actual: 938\n",
      "Model: 5635.664785969055, \t Actual: 9139\n",
      "Model: 1647.4868789052398, \t Actual: 1746\n",
      "Model: 9036.100738926722, \t Actual: 10640\n",
      "Model: 4392.0977344981275, \t Actual: 5023\n",
      "Model: -139.93325771036643, \t Actual: 577\n",
      "Model: 208.32639972246898, \t Actual: 573\n",
      "Model: 4340.811708566816, \t Actual: 4670\n",
      "Model: 2977.005821962376, \t Actual: 2265\n",
      "Model: 13010.309938508217, \t Actual: 10340\n",
      "Model: 184.25236442267624, \t Actual: 834\n",
      "Model: 4377.214336270183, \t Actual: 3427\n",
      "Model: 4404.134969235351, \t Actual: 3382\n",
      "Model: -342.05532424568764, \t Actual: 427\n",
      "Model: 3860.046057168408, \t Actual: 4927\n",
      "Model: 4482.569948349648, \t Actual: 4579\n",
      "Model: 1195.2167740416457, \t Actual: 853\n",
      "Model: 5493.63670218222, \t Actual: 5534\n",
      "Model: 1176.6238889787915, \t Actual: 1074\n",
      "Model: 162.43767802732373, \t Actual: 419\n",
      "Model: 4049.8063444835134, \t Actual: 3931\n",
      "Model: 710.2164747272045, \t Actual: 730\n",
      "Model: 413.25330509324476, \t Actual: 552\n",
      "Model: 4731.21745309952, \t Actual: 4331\n",
      "Model: 986.954661771802, \t Actual: 864\n",
      "Model: 819.4005408435778, \t Actual: 852\n",
      "Model: 2974.5299957918987, \t Actual: 2737\n",
      "Model: 1912.2122350937846, \t Actual: 1431\n",
      "Model: 1793.757599307749, \t Actual: 1376\n",
      "Model: 544.5261283049358, \t Actual: 942\n",
      "Model: 281.93005236371255, \t Actual: 732\n",
      "Model: 5936.082500324897, \t Actual: 10800\n",
      "Model: 686.4863450520706, \t Actual: 1002\n",
      "Model: -573.2519292128795, \t Actual: 447\n",
      "Model: 1479.92867784687, \t Actual: 1239\n",
      "Model: 6290.852181917635, \t Actual: 4675\n",
      "Model: 7293.368251542481, \t Actual: 7084\n",
      "Model: 4468.495486389247, \t Actual: 4460\n",
      "Model: 8549.996568679637, \t Actual: 9704\n",
      "Model: 4791.390488572849, \t Actual: 5134\n",
      "Model: 1806.5313874981166, \t Actual: 1605\n",
      "Model: 3201.550660076412, \t Actual: 2584\n",
      "Model: 5289.090966841142, \t Actual: 5125\n",
      "Model: 6771.633180942172, \t Actual: 6791\n",
      "Model: 2043.9909419784162, \t Actual: 1763\n",
      "Model: 1472.7419663134292, \t Actual: 1330\n",
      "Model: 5637.534375207928, \t Actual: 5501\n",
      "Model: 1802.206153237536, \t Actual: 1777\n",
      "Model: 6793.10756454102, \t Actual: 7948\n",
      "Model: 4179.775463693934, \t Actual: 3277\n",
      "Model: 3589.9572489013535, \t Actual: 3947\n",
      "Model: 9871.160461435718, \t Actual: 15823\n",
      "Model: 8582.586127938655, \t Actual: 8530\n",
      "Model: 3766.9355317204686, \t Actual: 3574\n",
      "Model: 339.13273880999213, \t Actual: 695\n",
      "Model: 10146.828854615138, \t Actual: 15197\n",
      "Model: 9398.480243001513, \t Actual: 13329\n",
      "Model: 323.65506298306127, \t Actual: 666\n",
      "Model: 10313.790648168118, \t Actual: 12843\n",
      "Model: 2481.1403042821385, \t Actual: 2138\n",
      "Model: 9618.834347420663, \t Actual: 15091\n",
      "Model: 2932.3996455612764, \t Actual: 2915\n",
      "Model: 12129.391249758723, \t Actual: 7019\n",
      "Model: 596.714689210788, \t Actual: 597\n",
      "Model: 2506.4894333612137, \t Actual: 2482\n",
      "Model: 8562.290818932544, \t Actual: 11510\n",
      "Model: 11947.487263760138, \t Actual: 13399\n",
      "Model: 7099.8846817776075, \t Actual: 11455\n",
      "Model: 2985.3211822931844, \t Actual: 2902\n",
      "Model: 8722.772433082086, \t Actual: 13768\n",
      "Model: 1163.9697054612684, \t Actual: 891\n",
      "Model: 501.42808058980427, \t Actual: 638\n",
      "Model: 388.60717973467354, \t Actual: 1008\n",
      "Model: 566.2097073933883, \t Actual: 787\n",
      "Model: 584.8543416242869, \t Actual: 746\n",
      "Model: 1393.7911904221141, \t Actual: 1103\n",
      "Model: 1795.6397974183353, \t Actual: 1716\n",
      "Model: 2970.0593758951754, \t Actual: 2760\n",
      "Model: 6267.70734385922, \t Actual: 8809\n",
      "Model: 1475.6222944606197, \t Actual: 982\n",
      "Model: 5084.4500098573135, \t Actual: 4700\n",
      "Model: 5050.098480892231, \t Actual: 5055\n",
      "Model: 3741.2044317505306, \t Actual: 3713\n",
      "Model: 4640.737810010679, \t Actual: 4270\n",
      "Model: 8982.400201419334, \t Actual: 14709\n",
      "Model: 7143.150809593078, \t Actual: 6495\n",
      "Model: 908.2436150093349, \t Actual: 789\n",
      "Model: 3400.6004184131316, \t Actual: 3334\n",
      "Model: -489.87915062717866, \t Actual: 540\n",
      "Model: 269.72025929819347, \t Actual: 579\n",
      "Model: 2468.2911391011544, \t Actual: 2310\n",
      "Model: 1093.977677957932, \t Actual: 1261\n",
      "Model: 3826.770169900485, \t Actual: 3616\n",
      "Model: 1936.286491458107, \t Actual: 1607\n",
      "Model: 346.51478460323915, \t Actual: 898\n",
      "Model: 3992.886785161467, \t Actual: 3117\n",
      "Model: 2056.672104273178, \t Actual: 1814\n",
      "Model: 1178.3440928283094, \t Actual: 1175\n",
      "Model: 6673.661924620243, \t Actual: 8669\n",
      "Model: 4401.874374801896, \t Actual: 4455\n",
      "Model: 2299.8055556296563, \t Actual: 2147\n",
      "Model: 6445.556953711038, \t Actual: 5427\n",
      "Model: 2068.819159643417, \t Actual: 1382\n",
      "Model: 1273.5712489896955, \t Actual: 1069\n",
      "Model: 1437.3253262909084, \t Actual: 1438\n",
      "Model: 374.9935726502431, \t Actual: 525\n",
      "Model: 11637.354454778564, \t Actual: 14074\n",
      "Model: 5789.123413067347, \t Actual: 8374\n",
      "Model: 5845.4057033916815, \t Actual: 4708\n",
      "Model: 3752.096528027855, \t Actual: 3605\n",
      "Model: 594.8481954130307, \t Actual: 882\n",
      "Model: -188.01164477189604, \t Actual: 401\n",
      "Model: 2205.1407342830435, \t Actual: 1942\n",
      "Model: 1147.4728312066109, \t Actual: 1220\n",
      "Model: 8760.060842721696, \t Actual: 8852\n",
      "Model: 4467.57894650487, \t Actual: 4869\n",
      "Model: 77.29707922039688, \t Actual: 537\n",
      "Model: 1982.6045481098793, \t Actual: 1912\n",
      "Model: 18797.202532667096, \t Actual: 16037\n",
      "Model: 12747.719064232968, \t Actual: 16783\n",
      "Model: 5648.1421347293735, \t Actual: 5352\n",
      "Model: 1131.207017555022, \t Actual: 1059\n",
      "Model: 4108.750898319394, \t Actual: 3625\n",
      "Model: 2634.637012414088, \t Actual: 2329\n",
      "Model: 7628.18011152373, \t Actual: 7086\n",
      "Model: 4653.149984945926, \t Actual: 3417\n"
     ]
    }
   ],
   "source": [
    "for X,y in zip(X_test, y_test):\n",
    "    print(f'Model: {clf.predict([X])[0]}, \\t Actual: {y}')"
   ]
  },
  {
   "cell_type": "code",
   "execution_count": 62,
   "metadata": {},
   "outputs": [
    {
     "data": {
      "text/plain": [
       "(array([  6.,   6.,   4.,   8.,  26., 136.,  10.,   2.,   0.,   2.]),\n",
       " array([-6586.85960267, -5374.16337512, -4161.46714758, -2948.77092003,\n",
       "        -1736.07469249,  -523.37846494,   689.3177626 ,  1902.01399015,\n",
       "         3114.71021769,  4327.40644524,  5540.10267278]),\n",
       " <a list of 10 Patch objects>)"
      ]
     },
     "execution_count": 62,
     "metadata": {},
     "output_type": "execute_result"
    },
    {
     "data": {
      "image/png": "[encoded data removed]",
      "text/plain": [
       "<Figure size 432x288 with 1 Axes>"
      ]
     },
     "metadata": {
      "needs_background": "light"
     },
     "output_type": "display_data"
    }
   ],
   "source": [
    "residue = clf.predict(X_test)-y_test\n",
    "plt.hist(residue)"
   ]
  },
  {
   "cell_type": "code",
   "execution_count": 63,
   "metadata": {},
   "outputs": [
    {
     "data": {
      "text/plain": [
       "[<matplotlib.lines.Line2D at 0x12bfa3198>]"
      ]
     },
     "execution_count": 63,
     "metadata": {},
     "output_type": "execute_result"
    },
    {
     "data": {
      "image/png": "[encoded data removed]",
      "text/plain": [
       "<Figure size 432x288 with 1 Axes>"
      ]
     },
     "metadata": {
      "needs_background": "light"
     },
     "output_type": "display_data"
    }
   ],
   "source": [
    "plt.plot(residue)"
   ]
  },
  {
   "cell_type": "code",
   "execution_count": 64,
   "metadata": {},
   "outputs": [
    {
     "name": "stderr",
     "output_type": "stream",
     "text": [
      "/Library/Frameworks/Python.framework/Versions/3.6/lib/python3.6/site-packages/sklearn/svm/base.py:196: FutureWarning: The default value of gamma will change from 'auto' to 'scale' in version 0.22 to account better for unscaled features. Set gamma explicitly to 'auto' or 'scale' to avoid this warning.\n",
      "  \"avoid this warning.\", FutureWarning)\n"
     ]
    },
    {
     "name": "stdout",
     "output_type": "stream",
     "text": [
      "0.5096729626422254\n",
      "\n",
      "Model: 1668.626762130407, \t Actual: 1320\n",
      "Model: 951.9896188152193, \t Actual: 452\n",
      "Model: 5164.153365723093, \t Actual: 9831\n",
      "Model: 805.144165721797, \t Actual: 956\n",
      "Model: 1154.9383722555576, \t Actual: 1116\n",
      "Model: 7315.691127339757, \t Actual: 15137\n",
      "Model: 1362.0766618171488, \t Actual: 1212\n",
      "Model: 5601.990663460841, \t Actual: 8220\n",
      "Model: 6507.391594591691, \t Actual: 7983\n",
      "Model: 1837.5963428284292, \t Actual: 1786\n",
      "Model: 2673.482986996885, \t Actual: 2767\n",
      "Model: 6273.455449029301, \t Actual: 6163\n",
      "Model: 4141.962788711473, \t Actual: 3751\n",
      "Model: 3324.368431801035, \t Actual: 3182\n",
      "Model: 1063.9940473360393, \t Actual: 1154\n",
      "Model: 1020.1980241114538, \t Actual: 948\n",
      "Model: 1707.9299647095327, \t Actual: 1257\n",
      "Model: 6194.225399497622, \t Actual: 18797\n",
      "Model: 631.8274044475584, \t Actual: 683\n",
      "Model: 1300.9630673157735, \t Actual: 1433\n",
      "Model: 569.3013210023387, \t Actual: 675\n",
      "Model: 496.53372538171516, \t Actual: 649\n",
      "Model: 1384.248317032638, \t Actual: 1395\n",
      "Model: 2173.534426809533, \t Actual: 2130\n",
      "Model: 3788.694606587201, \t Actual: 3704\n",
      "Model: 1011.8319692774853, \t Actual: 581\n",
      "Model: 5855.840531120022, \t Actual: 6237\n",
      "Model: 4931.401982764164, \t Actual: 4476\n",
      "Model: 4953.820175400096, \t Actual: 5292\n",
      "Model: 958.8213675021384, \t Actual: 651\n",
      "Model: 7193.324948464972, \t Actual: 10219\n",
      "Model: 1509.663460964013, \t Actual: 1212\n",
      "Model: 3170.8179213695503, \t Actual: 2858\n",
      "Model: 1002.7726860667926, \t Actual: 939\n",
      "Model: 2443.7309053781228, \t Actual: 2210\n",
      "Model: 5675.936322971786, \t Actual: 5372\n",
      "Model: 852.67767872369, \t Actual: 1050\n",
      "Model: 1541.9864876663719, \t Actual: 978\n",
      "Model: 674.6527008022786, \t Actual: 609\n",
      "Model: 5269.892865146817, \t Actual: 9593\n",
      "Model: 2795.493773299045, \t Actual: 3017\n",
      "Model: 671.7173797502473, \t Actual: 945\n",
      "Model: 767.9984523385524, \t Actual: 526\n",
      "Model: 6481.373542773892, \t Actual: 9176\n",
      "Model: 1703.9661725705555, \t Actual: 1386\n",
      "Model: 4714.57001851237, \t Actual: 4513\n",
      "Model: 5435.716291716206, \t Actual: 6153\n",
      "Model: 6361.901687607742, \t Actual: 15847\n",
      "Model: 5136.137399921247, \t Actual: 5220\n",
      "Model: 6629.207568730112, \t Actual: 13229\n",
      "Model: 7275.364318817835, \t Actual: 9847\n",
      "Model: 2741.1885663698995, \t Actual: 2658\n",
      "Model: 6008.39466620709, \t Actual: 6659\n",
      "Model: 1163.949753230077, \t Actual: 1372\n",
      "Model: 1371.9757662205752, \t Actual: 737\n",
      "Model: 6173.6769212479985, \t Actual: 6980\n",
      "Model: 985.151621644758, \t Actual: 605\n",
      "Model: 5717.85065698276, \t Actual: 16872\n",
      "Model: 5499.602753281246, \t Actual: 7266\n",
      "Model: 747.2926365350627, \t Actual: 711\n",
      "Model: 1612.443397913829, \t Actual: 1814\n",
      "Model: 3859.224038422498, \t Actual: 17917\n",
      "Model: 5974.055064710002, \t Actual: 7378\n",
      "Model: 3816.6993069800174, \t Actual: 5430\n",
      "Model: 730.3612109924579, \t Actual: 928\n",
      "Model: 6037.970590092225, \t Actual: 10477\n",
      "Model: 2610.9013888702343, \t Actual: 2200\n",
      "Model: 6383.9055547513235, \t Actual: 9439\n",
      "Model: 275.9411809790413, \t Actual: 561\n",
      "Model: 5771.716346852882, \t Actual: 18640\n",
      "Model: 4655.28859028135, \t Actual: 5292\n",
      "Model: 3707.2360430842778, \t Actual: 3962\n",
      "Model: 1723.8292987421414, \t Actual: 1812\n",
      "Model: 949.3469669570841, \t Actual: 847\n",
      "Model: 1334.9120138560284, \t Actual: 938\n",
      "Model: 5679.250204421885, \t Actual: 9139\n",
      "Model: 1420.4224327161955, \t Actual: 1746\n",
      "Model: 6005.363498380023, \t Actual: 10640\n",
      "Model: 4677.082953374967, \t Actual: 5023\n",
      "Model: 1001.821654495187, \t Actual: 577\n",
      "Model: 780.1789401920564, \t Actual: 573\n",
      "Model: 3751.878264353682, \t Actual: 4670\n",
      "Model: 2752.8127596884897, \t Actual: 2265\n",
      "Model: 5381.583557063792, \t Actual: 10340\n",
      "Model: 690.4174509068312, \t Actual: 834\n",
      "Model: 3629.262648568863, \t Actual: 3427\n",
      "Model: 4056.2314733104904, \t Actual: 3382\n",
      "Model: 1401.6228020953406, \t Actual: 427\n",
      "Model: 3549.6920657674927, \t Actual: 4927\n",
      "Model: 4619.177018076045, \t Actual: 4579\n",
      "Model: 1100.4875646103892, \t Actual: 853\n",
      "Model: 5510.668762523303, \t Actual: 5534\n",
      "Model: 1378.8426241911, \t Actual: 1074\n",
      "Model: 962.2700412232516, \t Actual: 419\n",
      "Model: 4068.405232921869, \t Actual: 3931\n",
      "Model: 687.0409809901421, \t Actual: 730\n",
      "Model: 538.9556870362394, \t Actual: 552\n",
      "Model: 4650.4760629909415, \t Actual: 4331\n",
      "Model: 931.7712320330884, \t Actual: 864\n",
      "Model: 908.5425327919602, \t Actual: 852\n",
      "Model: 2858.731226707566, \t Actual: 2737\n",
      "Model: 1466.8736324745944, \t Actual: 1431\n",
      "Model: 1781.5426128131505, \t Actual: 1376\n",
      "Model: 1032.3250004732995, \t Actual: 942\n",
      "Model: 1246.3253121928888, \t Actual: 732\n",
      "Model: 5144.349668657358, \t Actual: 10800\n",
      "Model: 1026.9759756691392, \t Actual: 1002\n",
      "Model: 1128.9661683405093, \t Actual: 447\n",
      "Model: 1984.5992435083158, \t Actual: 1239\n",
      "Model: 5381.212925810324, \t Actual: 4675\n",
      "Model: 6196.582841316026, \t Actual: 7084\n",
      "Model: 4439.910472292035, \t Actual: 4460\n",
      "Model: 6352.489648143525, \t Actual: 9704\n",
      "Model: 4739.172780321508, \t Actual: 5134\n",
      "Model: 1552.6210620690858, \t Actual: 1605\n",
      "Model: 3162.3870074761953, \t Actual: 2584\n",
      "Model: 5372.5832773190905, \t Actual: 5125\n",
      "Model: 5773.05291024814, \t Actual: 6791\n",
      "Model: 2504.4750267805275, \t Actual: 1763\n",
      "Model: 1520.0001659496602, \t Actual: 1330\n",
      "Model: 5579.776468931084, \t Actual: 5501\n",
      "Model: 1496.5053256013757, \t Actual: 1777\n",
      "Model: 7107.334090965799, \t Actual: 7948\n",
      "Model: 3412.9332301771797, \t Actual: 3277\n",
      "Model: 3496.8297433792986, \t Actual: 3947\n",
      "Model: 6806.6902196202855, \t Actual: 15823\n",
      "Model: 6424.72137250157, \t Actual: 8530\n",
      "Model: 3637.353937044758, \t Actual: 3574\n",
      "Model: 698.7019503819683, \t Actual: 695\n",
      "Model: 7350.75671015132, \t Actual: 15197\n",
      "Model: 6496.841939136724, \t Actual: 13329\n",
      "Model: 523.0318001916107, \t Actual: 666\n",
      "Model: 7262.203865803915, \t Actual: 12843\n",
      "Model: 2377.517534211131, \t Actual: 2138\n",
      "Model: 6430.265971456293, \t Actual: 15091\n",
      "Model: 2896.255930844054, \t Actual: 2915\n",
      "Model: 3754.219780966692, \t Actual: 7019\n",
      "Model: 873.8387210007586, \t Actual: 597\n",
      "Model: 2277.0561700412627, \t Actual: 2482\n",
      "Model: 6692.000200298262, \t Actual: 11510\n",
      "Model: 4518.2634019493125, \t Actual: 13399\n",
      "Model: 6688.987790477311, \t Actual: 11455\n",
      "Model: 2869.752259036949, \t Actual: 2902\n",
      "Model: 7267.274132387954, \t Actual: 13768\n",
      "Model: 1224.6132198872033, \t Actual: 891\n",
      "Model: 1640.6919731089895, \t Actual: 638\n",
      "Model: 636.5409946500286, \t Actual: 1008\n",
      "Model: 693.3288101539001, \t Actual: 787\n",
      "Model: 386.3037329577496, \t Actual: 746\n",
      "Model: 1016.0170104228114, \t Actual: 1103\n",
      "Model: 1588.7766541288474, \t Actual: 1716\n",
      "Model: 2897.784860839451, \t Actual: 2760\n",
      "Model: 6188.903277927264, \t Actual: 8809\n",
      "Model: 1447.0952530014733, \t Actual: 982\n",
      "Model: 5098.8376160139105, \t Actual: 4700\n",
      "Model: 5214.558943106211, \t Actual: 5055\n",
      "Model: 3893.985840864163, \t Actual: 3713\n",
      "Model: 4444.573495705046, \t Actual: 4270\n",
      "Model: 7057.320486622255, \t Actual: 14709\n",
      "Model: 5870.92699048794, \t Actual: 6495\n",
      "Model: 1097.5113566417203, \t Actual: 789\n",
      "Model: 3124.6411109501105, \t Actual: 3334\n",
      "Model: 550.9610216848873, \t Actual: 540\n",
      "Model: 386.28723825926454, \t Actual: 579\n",
      "Model: 2307.711086356393, \t Actual: 2310\n",
      "Model: 877.9001862927407, \t Actual: 1261\n",
      "Model: 3555.590674470065, \t Actual: 3616\n",
      "Model: 1581.3246735824625, \t Actual: 1607\n",
      "Model: 513.3282005260562, \t Actual: 898\n",
      "Model: 3499.5515220391826, \t Actual: 3117\n",
      "Model: 1886.0465644633061, \t Actual: 1814\n",
      "Model: 1303.5777199720037, \t Actual: 1175\n",
      "Model: 5688.469708021576, \t Actual: 8669\n",
      "Model: 4216.325196798747, \t Actual: 4455\n",
      "Model: 1963.8093235978474, \t Actual: 2147\n",
      "Model: 4639.485534169273, \t Actual: 5427\n",
      "Model: 1728.8444301271802, \t Actual: 1382\n",
      "Model: 1286.2966509899409, \t Actual: 1069\n",
      "Model: 1448.8027645785203, \t Actual: 1438\n",
      "Model: 1155.330785596184, \t Actual: 525\n",
      "Model: 6134.210547474715, \t Actual: 14074\n",
      "Model: 4282.780775285863, \t Actual: 8374\n",
      "Model: 5675.929171236472, \t Actual: 4708\n",
      "Model: 3575.2787523606785, \t Actual: 3605\n",
      "Model: 836.1651750135566, \t Actual: 882\n",
      "Model: 1082.3694529193867, \t Actual: 401\n",
      "Model: 2150.3569029638456, \t Actual: 1942\n",
      "Model: 1444.0798554775988, \t Actual: 1220\n",
      "Model: 7157.119791374149, \t Actual: 8852\n",
      "Model: 4193.041506516395, \t Actual: 4869\n",
      "Model: 793.9052369153706, \t Actual: 537\n",
      "Model: 1890.425098601184, \t Actual: 1912\n",
      "Model: 4214.010869427868, \t Actual: 16037\n",
      "Model: 5999.538244687783, \t Actual: 16783\n",
      "Model: 4876.900830384914, \t Actual: 5352\n",
      "Model: 858.1456344569115, \t Actual: 1059\n",
      "Model: 4148.967423855531, \t Actual: 3625\n",
      "Model: 2712.645765850324, \t Actual: 2329\n",
      "Model: 6452.740051650593, \t Actual: 7086\n",
      "Model: 4511.604214312266, \t Actual: 3417\n"
     ]
    }
   ],
   "source": [
    "clf = svm.SVR(kernel='rbf')\n",
    "clf.fit(X_train, y_train)\n",
    "print(clf.score(X_test, y_test))\n",
    "print('')\n",
    "for X,y in zip(X_test, y_test):\n",
    "    print(f'Model: {clf.predict([X])[0]}, \\t Actual: {y}')"
   ]
  },
  {
   "cell_type": "code",
   "execution_count": 65,
   "metadata": {},
   "outputs": [
    {
     "data": {
      "text/plain": [
       "(array([  3.,   2.,   1.,   4.,   7.,   2.,   9.,  10.,  20., 142.]),\n",
       " array([-14057.77596158, -12542.53794399, -11027.2999264 ,  -9512.06190881,\n",
       "         -7996.82389122,  -6481.58587363,  -4966.34785604,  -3451.10983845,\n",
       "         -1935.87182087,   -420.63380328,   1094.60421431]),\n",
       " <a list of 10 Patch objects>)"
      ]
     },
     "execution_count": 65,
     "metadata": {},
     "output_type": "execute_result"
    },
    {
     "data": {
      "image/png": "[encoded data removed]",
      "text/plain": [
       "<Figure size 432x288 with 1 Axes>"
      ]
     },
     "metadata": {
      "needs_background": "light"
     },
     "output_type": "display_data"
    }
   ],
   "source": [
    "residue = clf.predict(X_test)-y_test\n",
    "plt.hist(residue)"
   ]
  },
  {
   "cell_type": "code",
   "execution_count": 66,
   "metadata": {},
   "outputs": [
    {
     "data": {
      "text/plain": [
       "[<matplotlib.lines.Line2D at 0x12bfe7f28>]"
      ]
     },
     "execution_count": 66,
     "metadata": {},
     "output_type": "execute_result"
    },
    {
     "data": {
      "image/png": "[encoded data removed]",
      "text/plain": [
       "<Figure size 432x288 with 1 Axes>"
      ]
     },
     "metadata": {
      "needs_background": "light"
     },
     "output_type": "display_data"
    }
   ],
   "source": [
    "plt.plot(residue)"
   ]
  },
  {
   "cell_type": "code",
   "execution_count": null,
   "metadata": {},
   "outputs": [],
   "source": []
  }
 ],
 "metadata": {
  "kernelspec": {
   "display_name": "venv",
   "language": "python",
   "name": "venv"
  },
  "language_info": {
   "codemirror_mode": {
    "name": "ipython",
    "version": 3
   },
   "file_extension": ".py",
   "mimetype": "text/x-python",
   "name": "python",
   "nbconvert_exporter": "python",
   "pygments_lexer": "ipython3",
   "version": "3.6.7"
  }
 },
 "nbformat": 4,
 "nbformat_minor": 2
}
